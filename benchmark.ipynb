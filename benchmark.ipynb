{
  "nbformat": 4,
  "nbformat_minor": 0,
  "metadata": {
    "colab": {
      "provenance": [],
      "authorship_tag": "ABX9TyP6PQqKTEJ+wMuBsTNbdkDC",
      "include_colab_link": true
    },
    "kernelspec": {
      "name": "python3",
      "display_name": "Python 3"
    },
    "language_info": {
      "name": "python"
    }
  },
  "cells": [
    {
      "cell_type": "markdown",
      "metadata": {
        "id": "view-in-github",
        "colab_type": "text"
      },
      "source": [
        "<a href=\"https://colab.research.google.com/github/Jasonhcwong/face-recognition-system/blob/main/benchmark.ipynb\" target=\"_parent\"><img src=\"https://colab.research.google.com/assets/colab-badge.svg\" alt=\"Open In Colab\"/></a>"
      ]
    },
    {
      "cell_type": "markdown",
      "source": [
        "# Install required libraries and clone the repo"
      ],
      "metadata": {
        "id": "1_oaW1snsXBz"
      }
    },
    {
      "cell_type": "code",
      "source": [
        "!pip install scikit-learn scipy==1.8.1 mxnet  mtcnn scikit-image\n",
        "\n",
        "!git clone https://github.com/Jasonhcwong/face-recognition-system.git\n",
        "%cd face-recognition-system\n"
      ],
      "metadata": {
        "colab": {
          "base_uri": "https://localhost:8080/"
        },
        "id": "-P6GnyGnppVX",
        "outputId": "d5b9fc4a-2b47-4163-c90a-b6779e29a455"
      },
      "execution_count": 1,
      "outputs": [
        {
          "output_type": "stream",
          "name": "stdout",
          "text": [
            "Looking in indexes: https://pypi.org/simple, https://us-python.pkg.dev/colab-wheels/public/simple/\n",
            "Requirement already satisfied: scikit-learn in /usr/local/lib/python3.10/dist-packages (1.2.2)\n",
            "Requirement already satisfied: scipy==1.8.1 in /usr/local/lib/python3.10/dist-packages (1.8.1)\n",
            "Requirement already satisfied: mxnet in /usr/local/lib/python3.10/dist-packages (1.9.1)\n",
            "Requirement already satisfied: mtcnn in /usr/local/lib/python3.10/dist-packages (0.1.1)\n",
            "Requirement already satisfied: scikit-image in /usr/local/lib/python3.10/dist-packages (0.19.3)\n",
            "Requirement already satisfied: numpy<1.25.0,>=1.17.3 in /usr/local/lib/python3.10/dist-packages (from scipy==1.8.1) (1.22.4)\n",
            "Requirement already satisfied: joblib>=1.1.1 in /usr/local/lib/python3.10/dist-packages (from scikit-learn) (1.2.0)\n",
            "Requirement already satisfied: threadpoolctl>=2.0.0 in /usr/local/lib/python3.10/dist-packages (from scikit-learn) (3.1.0)\n",
            "Requirement already satisfied: requests<3,>=2.20.0 in /usr/local/lib/python3.10/dist-packages (from mxnet) (2.27.1)\n",
            "Requirement already satisfied: graphviz<0.9.0,>=0.8.1 in /usr/local/lib/python3.10/dist-packages (from mxnet) (0.8.4)\n",
            "Requirement already satisfied: keras>=2.0.0 in /usr/local/lib/python3.10/dist-packages (from mtcnn) (2.12.0)\n",
            "Requirement already satisfied: opencv-python>=4.1.0 in /usr/local/lib/python3.10/dist-packages (from mtcnn) (4.7.0.72)\n",
            "Requirement already satisfied: networkx>=2.2 in /usr/local/lib/python3.10/dist-packages (from scikit-image) (3.1)\n",
            "Requirement already satisfied: pillow!=7.1.0,!=7.1.1,!=8.3.0,>=6.1.0 in /usr/local/lib/python3.10/dist-packages (from scikit-image) (8.4.0)\n",
            "Requirement already satisfied: imageio>=2.4.1 in /usr/local/lib/python3.10/dist-packages (from scikit-image) (2.25.1)\n",
            "Requirement already satisfied: tifffile>=2019.7.26 in /usr/local/lib/python3.10/dist-packages (from scikit-image) (2023.4.12)\n",
            "Requirement already satisfied: PyWavelets>=1.1.1 in /usr/local/lib/python3.10/dist-packages (from scikit-image) (1.4.1)\n",
            "Requirement already satisfied: packaging>=20.0 in /usr/local/lib/python3.10/dist-packages (from scikit-image) (23.1)\n",
            "Requirement already satisfied: urllib3<1.27,>=1.21.1 in /usr/local/lib/python3.10/dist-packages (from requests<3,>=2.20.0->mxnet) (1.26.15)\n",
            "Requirement already satisfied: certifi>=2017.4.17 in /usr/local/lib/python3.10/dist-packages (from requests<3,>=2.20.0->mxnet) (2022.12.7)\n",
            "Requirement already satisfied: charset-normalizer~=2.0.0 in /usr/local/lib/python3.10/dist-packages (from requests<3,>=2.20.0->mxnet) (2.0.12)\n",
            "Requirement already satisfied: idna<4,>=2.5 in /usr/local/lib/python3.10/dist-packages (from requests<3,>=2.20.0->mxnet) (3.4)\n",
            "fatal: destination path 'face-recognition-system' already exists and is not an empty directory.\n",
            "/content/face-recognition-system\n"
          ]
        }
      ]
    },
    {
      "cell_type": "markdown",
      "source": [
        "# Import required libraries"
      ],
      "metadata": {
        "id": "Vdb29TEuscLO"
      }
    },
    {
      "cell_type": "code",
      "execution_count": 2,
      "metadata": {
        "id": "FuSdPOPEpJhy"
      },
      "outputs": [],
      "source": [
        "from verification import evaluate\n",
        "from sklearn import metrics\n",
        "from scipy.optimize import brentq\n",
        "from scipy import interpolate\n",
        "import mxnet as mx\n",
        "import numpy as np\n",
        "import pickle\n",
        "import os\n",
        "import tensorflow as tf"
      ]
    },
    {
      "cell_type": "markdown",
      "source": [
        "# Load the model and run the benchmark"
      ],
      "metadata": {
        "id": "IuPvp5TAsgnr"
      }
    },
    {
      "cell_type": "code",
      "source": [
        "# load Labeled Faces in the Wild Benchmark file \"lfw.bin\"\n",
        "def load_data(db_name, image_size, eval_db_path):\n",
        "    bins, issame_list = pickle.load(open(os.path.join(eval_db_path, db_name+'.bin'), 'rb'), encoding='bytes')\n",
        "    datasets = np.empty((len(issame_list)*2, image_size[0], image_size[1], 3))\n",
        "\n",
        "    for i in range(len(issame_list)*2):\n",
        "        _bin = bins[i]\n",
        "        img = mx.image.imdecode(_bin).asnumpy()\n",
        "        img = img - 127.5\n",
        "        img = img * 0.0078125\n",
        "        datasets[i, ...] = img\n",
        "        i += 1\n",
        "        if i % 1000 == 0:\n",
        "            print('loading bin', i)\n",
        "\n",
        "    return datasets, issame_list\n",
        "\n",
        "# directory where \"lfw.bin\" is located\n",
        "eval_db_path = './'\n",
        "data_set = load_data('lfw', [112,112], eval_db_path)\n",
        "data_sets, issame_list = data_set\n",
        "\n",
        "# load and run Tensorflow saved_model\n",
        "train_model = tf.keras.models.load_model('./ckpt/epoch_13')\n",
        "model = tf.keras.Model(train_model.get_layer('input').input, train_model.get_layer('embedding').output, trainable=False)\n",
        "result = model.predict(data_sets, batch_size=1, verbose=1)\n",
        "\n",
        "# calculate performance metrics\n",
        "tpr, fpr, accuracy, val, val_std, far = evaluate(result, issame_list, nrof_folds=10)\n",
        "print('Accuracy: %1.3f+-%1.3f' % (np.mean(accuracy), np.std(accuracy)))\n",
        "print('Validation rate: %2.5f+-%2.5f @ FAR=%2.5f' % (val, val_std, far))\n",
        "print('fpr and tpr: %1.3f %1.3f' % (np.mean(fpr, 0), np.mean(tpr, 0)))\n",
        "\n",
        "auc = metrics.auc(fpr, tpr)\n",
        "print('Area Under Curve (AUC): %1.3f' % auc)\n",
        "eer = brentq(lambda x: 1. - x - interpolate.interp1d(fpr, tpr)(x), 0., 1.)\n",
        "print('Equal Error Rate (EER): %1.3f' % eer)"
      ],
      "metadata": {
        "colab": {
          "base_uri": "https://localhost:8080/"
        },
        "id": "jpb05Ep3pOwF",
        "outputId": "35e37865-eb09-4f5a-f988-21efdbb6db40"
      },
      "execution_count": 3,
      "outputs": [
        {
          "output_type": "stream",
          "name": "stdout",
          "text": [
            "loading bin 1000\n",
            "loading bin 2000\n",
            "loading bin 3000\n",
            "loading bin 4000\n",
            "loading bin 5000\n",
            "loading bin 6000\n",
            "loading bin 7000\n",
            "loading bin 8000\n",
            "loading bin 9000\n",
            "loading bin 10000\n",
            "loading bin 11000\n",
            "loading bin 12000\n",
            "12000/12000 [==============================] - 98s 8ms/step\n",
            "thresholds max: 1.41 <=> min: 1.3900000000000001\n",
            "Accuracy: 0.987+-0.006\n",
            "Validation rate: 0.95733+-0.01788 @ FAR=0.00100\n",
            "fpr and tpr: 0.502 0.818\n",
            "Area Under Curve (AUC): 0.999\n",
            "Equal Error Rate (EER): 0.014\n"
          ]
        }
      ]
    }
  ]
}